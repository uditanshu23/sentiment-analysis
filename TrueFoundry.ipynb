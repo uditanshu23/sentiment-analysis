{
  "cells": [
    {
      "cell_type": "code",
      "execution_count": 2,
      "metadata": {
        "id": "wMnCXFms-m5I"
      },
      "outputs": [
        {
          "ename": "",
          "evalue": "",
          "output_type": "error",
          "traceback": [
            "\u001b[1;31mThe Kernel crashed while executing code in the the current cell or a previous cell. Please review the code in the cell(s) to identify a possible cause of the failure. Click <a href='https://aka.ms/vscodeJupyterKernelCrash'>here</a> for more info. View Jupyter <a href='command:jupyter.viewOutput'>log</a> for further details."
          ]
        },
        {
          "ename": "",
          "evalue": "",
          "output_type": "error",
          "traceback": [
            "\u001b[1;31mCanceled future for execute_request message before replies were done"
          ]
        }
      ],
      "source": [
        "import os\n",
        "import re\n",
        "import numpy as np\n",
        "import pandas as pd\n",
        "import seaborn as sns\n",
        "import matplotlib.pyplot as plt\n",
        "import string\n",
        "from sklearn.model_selection import train_test_split\n",
        "\n",
        "import tensorflow as tf\n",
        "from tensorflow.keras.preprocessing.text import Tokenizer\n",
        "from tensorflow.keras.preprocessing.sequence import pad_sequences\n",
        "from tensorflow.keras.models import Sequential\n",
        "from tensorflow.keras.layers import LSTM,Dense, Dropout, SpatialDropout1D\n",
        "from tensorflow.keras.layers import Embedding"
      ]
    },
    {
      "cell_type": "code",
      "execution_count": 4,
      "metadata": {
        "colab": {
          "base_uri": "https://localhost:8080/",
          "height": 221
        },
        "id": "iDvWxPgu-wpy",
        "outputId": "48f0c944-9130-4904-b5d1-12e4d630ef44"
      },
      "outputs": [
        {
          "name": "stdout",
          "output_type": "stream",
          "text": [
            "0\n"
          ]
        },
        {
          "data": {
            "text/html": [
              "\n",
              "  <div id=\"df-53a5937a-b8a5-41f1-9358-04886b54b76e\">\n",
              "    <div class=\"colab-df-container\">\n",
              "      <div>\n",
              "<style scoped>\n",
              "    .dataframe tbody tr th:only-of-type {\n",
              "        vertical-align: middle;\n",
              "    }\n",
              "\n",
              "    .dataframe tbody tr th {\n",
              "        vertical-align: top;\n",
              "    }\n",
              "\n",
              "    .dataframe thead th {\n",
              "        text-align: right;\n",
              "    }\n",
              "</style>\n",
              "<table border=\"1\" class=\"dataframe\">\n",
              "  <thead>\n",
              "    <tr style=\"text-align: right;\">\n",
              "      <th></th>\n",
              "      <th>Unnamed: 0</th>\n",
              "      <th>airline_sentiment</th>\n",
              "      <th>text</th>\n",
              "    </tr>\n",
              "  </thead>\n",
              "  <tbody>\n",
              "    <tr>\n",
              "      <th>0</th>\n",
              "      <td>1</td>\n",
              "      <td>positive</td>\n",
              "      <td>@VirginAmerica plus you've added commercials t...</td>\n",
              "    </tr>\n",
              "    <tr>\n",
              "      <th>1</th>\n",
              "      <td>3</td>\n",
              "      <td>negative</td>\n",
              "      <td>@VirginAmerica it's really aggressive to blast...</td>\n",
              "    </tr>\n",
              "    <tr>\n",
              "      <th>2</th>\n",
              "      <td>4</td>\n",
              "      <td>negative</td>\n",
              "      <td>@VirginAmerica and it's a really big bad thing...</td>\n",
              "    </tr>\n",
              "    <tr>\n",
              "      <th>3</th>\n",
              "      <td>5</td>\n",
              "      <td>negative</td>\n",
              "      <td>@VirginAmerica seriously would pay $30 a fligh...</td>\n",
              "    </tr>\n",
              "    <tr>\n",
              "      <th>4</th>\n",
              "      <td>6</td>\n",
              "      <td>positive</td>\n",
              "      <td>@VirginAmerica yes, nearly every time I fly VX...</td>\n",
              "    </tr>\n",
              "  </tbody>\n",
              "</table>\n",
              "</div>\n",
              "      <button class=\"colab-df-convert\" onclick=\"convertToInteractive('df-53a5937a-b8a5-41f1-9358-04886b54b76e')\"\n",
              "              title=\"Convert this dataframe to an interactive table.\"\n",
              "              style=\"display:none;\">\n",
              "        \n",
              "  <svg xmlns=\"http://www.w3.org/2000/svg\" height=\"24px\"viewBox=\"0 0 24 24\"\n",
              "       width=\"24px\">\n",
              "    <path d=\"M0 0h24v24H0V0z\" fill=\"none\"/>\n",
              "    <path d=\"M18.56 5.44l.94 2.06.94-2.06 2.06-.94-2.06-.94-.94-2.06-.94 2.06-2.06.94zm-11 1L8.5 8.5l.94-2.06 2.06-.94-2.06-.94L8.5 2.5l-.94 2.06-2.06.94zm10 10l.94 2.06.94-2.06 2.06-.94-2.06-.94-.94-2.06-.94 2.06-2.06.94z\"/><path d=\"M17.41 7.96l-1.37-1.37c-.4-.4-.92-.59-1.43-.59-.52 0-1.04.2-1.43.59L10.3 9.45l-7.72 7.72c-.78.78-.78 2.05 0 2.83L4 21.41c.39.39.9.59 1.41.59.51 0 1.02-.2 1.41-.59l7.78-7.78 2.81-2.81c.8-.78.8-2.07 0-2.86zM5.41 20L4 18.59l7.72-7.72 1.47 1.35L5.41 20z\"/>\n",
              "  </svg>\n",
              "      </button>\n",
              "      \n",
              "  <style>\n",
              "    .colab-df-container {\n",
              "      display:flex;\n",
              "      flex-wrap:wrap;\n",
              "      gap: 12px;\n",
              "    }\n",
              "\n",
              "    .colab-df-convert {\n",
              "      background-color: #E8F0FE;\n",
              "      border: none;\n",
              "      border-radius: 50%;\n",
              "      cursor: pointer;\n",
              "      display: none;\n",
              "      fill: #1967D2;\n",
              "      height: 32px;\n",
              "      padding: 0 0 0 0;\n",
              "      width: 32px;\n",
              "    }\n",
              "\n",
              "    .colab-df-convert:hover {\n",
              "      background-color: #E2EBFA;\n",
              "      box-shadow: 0px 1px 2px rgba(60, 64, 67, 0.3), 0px 1px 3px 1px rgba(60, 64, 67, 0.15);\n",
              "      fill: #174EA6;\n",
              "    }\n",
              "\n",
              "    [theme=dark] .colab-df-convert {\n",
              "      background-color: #3B4455;\n",
              "      fill: #D2E3FC;\n",
              "    }\n",
              "\n",
              "    [theme=dark] .colab-df-convert:hover {\n",
              "      background-color: #434B5C;\n",
              "      box-shadow: 0px 1px 3px 1px rgba(0, 0, 0, 0.15);\n",
              "      filter: drop-shadow(0px 1px 2px rgba(0, 0, 0, 0.3));\n",
              "      fill: #FFFFFF;\n",
              "    }\n",
              "  </style>\n",
              "\n",
              "      <script>\n",
              "        const buttonEl =\n",
              "          document.querySelector('#df-53a5937a-b8a5-41f1-9358-04886b54b76e button.colab-df-convert');\n",
              "        buttonEl.style.display =\n",
              "          google.colab.kernel.accessAllowed ? 'block' : 'none';\n",
              "\n",
              "        async function convertToInteractive(key) {\n",
              "          const element = document.querySelector('#df-53a5937a-b8a5-41f1-9358-04886b54b76e');\n",
              "          const dataTable =\n",
              "            await google.colab.kernel.invokeFunction('convertToInteractive',\n",
              "                                                     [key], {});\n",
              "          if (!dataTable) return;\n",
              "\n",
              "          const docLinkHtml = 'Like what you see? Visit the ' +\n",
              "            '<a target=\"_blank\" href=https://colab.research.google.com/notebooks/data_table.ipynb>data table notebook</a>'\n",
              "            + ' to learn more about interactive tables.';\n",
              "          element.innerHTML = '';\n",
              "          dataTable['output_type'] = 'display_data';\n",
              "          await google.colab.output.renderOutput(dataTable, element);\n",
              "          const docLink = document.createElement('div');\n",
              "          docLink.innerHTML = docLinkHtml;\n",
              "          element.appendChild(docLink);\n",
              "        }\n",
              "      </script>\n",
              "    </div>\n",
              "  </div>\n",
              "  "
            ],
            "text/plain": [
              "   Unnamed: 0 airline_sentiment  \\\n",
              "0           1          positive   \n",
              "1           3          negative   \n",
              "2           4          negative   \n",
              "3           5          negative   \n",
              "4           6          positive   \n",
              "\n",
              "                                                text  \n",
              "0  @VirginAmerica plus you've added commercials t...  \n",
              "1  @VirginAmerica it's really aggressive to blast...  \n",
              "2  @VirginAmerica and it's a really big bad thing...  \n",
              "3  @VirginAmerica seriously would pay $30 a fligh...  \n",
              "4  @VirginAmerica yes, nearly every time I fly VX...  "
            ]
          },
          "execution_count": 4,
          "metadata": {},
          "output_type": "execute_result"
        }
      ],
      "source": [
        "df = pd.read_csv('./data/airline_sentiment_analysis.csv')\n",
        "print(np.sum(df.isnull().any(axis=1)))\n",
        "df.head()"
      ]
    },
    {
      "cell_type": "code",
      "execution_count": 5,
      "metadata": {
        "colab": {
          "base_uri": "https://localhost:8080/"
        },
        "id": "Xwq3LW8K_ZJW",
        "outputId": "92c3ab1b-f258-4bf0-c30a-8277dd0d3d04"
      },
      "outputs": [
        {
          "name": "stdout",
          "output_type": "stream",
          "text": [
            "Lenght of dataset 11541\n"
          ]
        },
        {
          "data": {
            "text/plain": [
              "<bound method DataFrame.info of        Unnamed: 0 airline_sentiment  \\\n",
              "0               1          positive   \n",
              "1               3          negative   \n",
              "2               4          negative   \n",
              "3               5          negative   \n",
              "4               6          positive   \n",
              "...           ...               ...   \n",
              "11536       14633          negative   \n",
              "11537       14634          negative   \n",
              "11538       14635          positive   \n",
              "11539       14636          negative   \n",
              "11540       14638          negative   \n",
              "\n",
              "                                                    text  \n",
              "0      @VirginAmerica plus you've added commercials t...  \n",
              "1      @VirginAmerica it's really aggressive to blast...  \n",
              "2      @VirginAmerica and it's a really big bad thing...  \n",
              "3      @VirginAmerica seriously would pay $30 a fligh...  \n",
              "4      @VirginAmerica yes, nearly every time I fly VX...  \n",
              "...                                                  ...  \n",
              "11536  @AmericanAir my flight was Cancelled Flightled...  \n",
              "11537         @AmericanAir right on cue with the delays👌  \n",
              "11538  @AmericanAir thank you we got on a different f...  \n",
              "11539  @AmericanAir leaving over 20 minutes Late Flig...  \n",
              "11540  @AmericanAir you have my money, you change my ...  \n",
              "\n",
              "[11541 rows x 3 columns]>"
            ]
          },
          "execution_count": 5,
          "metadata": {},
          "output_type": "execute_result"
        }
      ],
      "source": [
        "print('Lenght of dataset', len(df))\n",
        "df.info"
      ]
    },
    {
      "cell_type": "code",
      "execution_count": 44,
      "metadata": {
        "colab": {
          "base_uri": "https://localhost:8080/",
          "height": 204
        },
        "id": "Apvef4Hj_jyY",
        "outputId": "2e0964fe-ec47-4f38-ab4e-ae64a52b56cc"
      },
      "outputs": [
        {
          "data": {
            "text/html": [
              "\n",
              "  <div id=\"df-7cb58438-5a87-48c7-9994-b184578d153e\">\n",
              "    <div class=\"colab-df-container\">\n",
              "      <div>\n",
              "<style scoped>\n",
              "    .dataframe tbody tr th:only-of-type {\n",
              "        vertical-align: middle;\n",
              "    }\n",
              "\n",
              "    .dataframe tbody tr th {\n",
              "        vertical-align: top;\n",
              "    }\n",
              "\n",
              "    .dataframe thead th {\n",
              "        text-align: right;\n",
              "    }\n",
              "</style>\n",
              "<table border=\"1\" class=\"dataframe\">\n",
              "  <thead>\n",
              "    <tr style=\"text-align: right;\">\n",
              "      <th></th>\n",
              "      <th>Unnamed: 0</th>\n",
              "      <th>airline_sentiment</th>\n",
              "      <th>text</th>\n",
              "      <th>flags</th>\n",
              "    </tr>\n",
              "  </thead>\n",
              "  <tbody>\n",
              "    <tr>\n",
              "      <th>0</th>\n",
              "      <td>1</td>\n",
              "      <td>positive</td>\n",
              "      <td>@VirginAmerica plus you've added commercials t...</td>\n",
              "      <td>1</td>\n",
              "    </tr>\n",
              "    <tr>\n",
              "      <th>1</th>\n",
              "      <td>3</td>\n",
              "      <td>negative</td>\n",
              "      <td>@VirginAmerica it's really aggressive to blast...</td>\n",
              "      <td>0</td>\n",
              "    </tr>\n",
              "    <tr>\n",
              "      <th>2</th>\n",
              "      <td>4</td>\n",
              "      <td>negative</td>\n",
              "      <td>@VirginAmerica and it's a really big bad thing...</td>\n",
              "      <td>0</td>\n",
              "    </tr>\n",
              "    <tr>\n",
              "      <th>3</th>\n",
              "      <td>5</td>\n",
              "      <td>negative</td>\n",
              "      <td>@VirginAmerica seriously would pay $30 a fligh...</td>\n",
              "      <td>0</td>\n",
              "    </tr>\n",
              "    <tr>\n",
              "      <th>4</th>\n",
              "      <td>6</td>\n",
              "      <td>positive</td>\n",
              "      <td>@VirginAmerica yes, nearly every time I fly VX...</td>\n",
              "      <td>1</td>\n",
              "    </tr>\n",
              "  </tbody>\n",
              "</table>\n",
              "</div>\n",
              "      <button class=\"colab-df-convert\" onclick=\"convertToInteractive('df-7cb58438-5a87-48c7-9994-b184578d153e')\"\n",
              "              title=\"Convert this dataframe to an interactive table.\"\n",
              "              style=\"display:none;\">\n",
              "        \n",
              "  <svg xmlns=\"http://www.w3.org/2000/svg\" height=\"24px\"viewBox=\"0 0 24 24\"\n",
              "       width=\"24px\">\n",
              "    <path d=\"M0 0h24v24H0V0z\" fill=\"none\"/>\n",
              "    <path d=\"M18.56 5.44l.94 2.06.94-2.06 2.06-.94-2.06-.94-.94-2.06-.94 2.06-2.06.94zm-11 1L8.5 8.5l.94-2.06 2.06-.94-2.06-.94L8.5 2.5l-.94 2.06-2.06.94zm10 10l.94 2.06.94-2.06 2.06-.94-2.06-.94-.94-2.06-.94 2.06-2.06.94z\"/><path d=\"M17.41 7.96l-1.37-1.37c-.4-.4-.92-.59-1.43-.59-.52 0-1.04.2-1.43.59L10.3 9.45l-7.72 7.72c-.78.78-.78 2.05 0 2.83L4 21.41c.39.39.9.59 1.41.59.51 0 1.02-.2 1.41-.59l7.78-7.78 2.81-2.81c.8-.78.8-2.07 0-2.86zM5.41 20L4 18.59l7.72-7.72 1.47 1.35L5.41 20z\"/>\n",
              "  </svg>\n",
              "      </button>\n",
              "      \n",
              "  <style>\n",
              "    .colab-df-container {\n",
              "      display:flex;\n",
              "      flex-wrap:wrap;\n",
              "      gap: 12px;\n",
              "    }\n",
              "\n",
              "    .colab-df-convert {\n",
              "      background-color: #E8F0FE;\n",
              "      border: none;\n",
              "      border-radius: 50%;\n",
              "      cursor: pointer;\n",
              "      display: none;\n",
              "      fill: #1967D2;\n",
              "      height: 32px;\n",
              "      padding: 0 0 0 0;\n",
              "      width: 32px;\n",
              "    }\n",
              "\n",
              "    .colab-df-convert:hover {\n",
              "      background-color: #E2EBFA;\n",
              "      box-shadow: 0px 1px 2px rgba(60, 64, 67, 0.3), 0px 1px 3px 1px rgba(60, 64, 67, 0.15);\n",
              "      fill: #174EA6;\n",
              "    }\n",
              "\n",
              "    [theme=dark] .colab-df-convert {\n",
              "      background-color: #3B4455;\n",
              "      fill: #D2E3FC;\n",
              "    }\n",
              "\n",
              "    [theme=dark] .colab-df-convert:hover {\n",
              "      background-color: #434B5C;\n",
              "      box-shadow: 0px 1px 3px 1px rgba(0, 0, 0, 0.15);\n",
              "      filter: drop-shadow(0px 1px 2px rgba(0, 0, 0, 0.3));\n",
              "      fill: #FFFFFF;\n",
              "    }\n",
              "  </style>\n",
              "\n",
              "      <script>\n",
              "        const buttonEl =\n",
              "          document.querySelector('#df-7cb58438-5a87-48c7-9994-b184578d153e button.colab-df-convert');\n",
              "        buttonEl.style.display =\n",
              "          google.colab.kernel.accessAllowed ? 'block' : 'none';\n",
              "\n",
              "        async function convertToInteractive(key) {\n",
              "          const element = document.querySelector('#df-7cb58438-5a87-48c7-9994-b184578d153e');\n",
              "          const dataTable =\n",
              "            await google.colab.kernel.invokeFunction('convertToInteractive',\n",
              "                                                     [key], {});\n",
              "          if (!dataTable) return;\n",
              "\n",
              "          const docLinkHtml = 'Like what you see? Visit the ' +\n",
              "            '<a target=\"_blank\" href=https://colab.research.google.com/notebooks/data_table.ipynb>data table notebook</a>'\n",
              "            + ' to learn more about interactive tables.';\n",
              "          element.innerHTML = '';\n",
              "          dataTable['output_type'] = 'display_data';\n",
              "          await google.colab.output.renderOutput(dataTable, element);\n",
              "          const docLink = document.createElement('div');\n",
              "          docLink.innerHTML = docLinkHtml;\n",
              "          element.appendChild(docLink);\n",
              "        }\n",
              "      </script>\n",
              "    </div>\n",
              "  </div>\n",
              "  "
            ],
            "text/plain": [
              "   Unnamed: 0 airline_sentiment  \\\n",
              "0           1          positive   \n",
              "1           3          negative   \n",
              "2           4          negative   \n",
              "3           5          negative   \n",
              "4           6          positive   \n",
              "\n",
              "                                                text  flags  \n",
              "0  @VirginAmerica plus you've added commercials t...      1  \n",
              "1  @VirginAmerica it's really aggressive to blast...      0  \n",
              "2  @VirginAmerica and it's a really big bad thing...      0  \n",
              "3  @VirginAmerica seriously would pay $30 a fligh...      0  \n",
              "4  @VirginAmerica yes, nearly every time I fly VX...      1  "
            ]
          },
          "execution_count": 44,
          "metadata": {},
          "output_type": "execute_result"
        }
      ],
      "source": [
        "flags = []\n",
        "for ind in df.index:\n",
        "    fla = (1 if df['airline_sentiment'][ind]== 'positive' else 0)\n",
        "    flags.append(fla)\n",
        "df['flags'] = flags\n",
        "df.head()"
      ]
    },
    {
      "cell_type": "code",
      "execution_count": 45,
      "metadata": {
        "colab": {
          "base_uri": "https://localhost:8080/",
          "height": 297
        },
        "id": "_0WgAP8j_qNU",
        "outputId": "c8c22759-de9b-4230-dcb6-bcf5fe673489"
      },
      "outputs": [
        {
          "data": {
            "text/plain": [
              "<matplotlib.axes._subplots.AxesSubplot at 0x7f4f5c7d81f0>"
            ]
          },
          "execution_count": 45,
          "metadata": {},
          "output_type": "execute_result"
        },
        {
          "data": {
            "image/png": "[encoded data removed]",
            "text/plain": [
              "<Figure size 432x288 with 1 Axes>"
            ]
          },
          "metadata": {
            "needs_background": "light"
          },
          "output_type": "display_data"
        }
      ],
      "source": [
        "sns.countplot(x='airline_sentiment', data=df)"
      ]
    },
    {
      "cell_type": "code",
      "execution_count": 46,
      "metadata": {
        "colab": {
          "base_uri": "https://localhost:8080/"
        },
        "id": "KukD35ra_7_d",
        "outputId": "72b9d139-e77c-4adc-b9ff-7c266a7c3ac9"
      },
      "outputs": [
        {
          "data": {
            "text/plain": [
              "negative    9178\n",
              "positive    2363\n",
              "Name: airline_sentiment, dtype: int64"
            ]
          },
          "execution_count": 46,
          "metadata": {},
          "output_type": "execute_result"
        }
      ],
      "source": [
        "data = df[['text', 'airline_sentiment']]\n",
        "data['airline_sentiment'].unique()\n",
        "data['airline_sentiment'].value_counts()"
      ]
    },
    {
      "cell_type": "code",
      "execution_count": 47,
      "metadata": {
        "id": "_vFUOlcEAAzN"
      },
      "outputs": [],
      "source": [
        "train_df, test_df = train_test_split(data, test_size=0.2, random_state=42, shuffle=True)"
      ]
    },
    {
      "cell_type": "code",
      "execution_count": 48,
      "metadata": {
        "colab": {
          "base_uri": "https://localhost:8080/"
        },
        "id": "FRq-v-SVAUw4",
        "outputId": "6a36ea05-1889-40d8-f1e6-10724739c75f"
      },
      "outputs": [
        {
          "name": "stderr",
          "output_type": "stream",
          "text": [
            "[nltk_data] Downloading package stopwords to /root/nltk_data...\n",
            "[nltk_data]   Package stopwords is already up-to-date!\n"
          ]
        }
      ],
      "source": [
        "import nltk\n",
        "nltk.download('stopwords')\n",
        "from nltk.corpus import stopwords\n",
        "\n",
        "STOPWORDS = set(stopwords.words('english'))\n",
        "\n",
        "def cleaning_stopwords(text):\n",
        "  #remove the stop words from the text\n",
        "  return \" \".join([word for word in str(text).split() if word not in STOPWORDS])\n",
        "\n",
        "\n",
        "def cleaning_repeating_char(text):\n",
        "  #remove the repitative characters from the text\n",
        "  return re.sub(r'(.)1+', r'1', text)\n",
        "\n",
        "english_punctuations = string.punctuation\n",
        "punctuations_list = english_punctuations\n",
        "\n",
        "def cleaning_punctuations(text):\n",
        "  #removes punctuations like ! or @ from the text\n",
        "  translator = str.maketrans('', '', punctuations_list)\n",
        "  return text.translate(translator)"
      ]
    },
    {
      "cell_type": "code",
      "execution_count": 49,
      "metadata": {
        "colab": {
          "base_uri": "https://localhost:8080/",
          "height": 204
        },
        "id": "n549RDfKBdhX",
        "outputId": "20583591-62d7-42e0-ff25-ddaf7de7b80a"
      },
      "outputs": [
        {
          "data": {
            "text/html": [
              "\n",
              "  <div id=\"df-3ba989a2-cd4e-4fbb-aa55-d79028c8c5a2\">\n",
              "    <div class=\"colab-df-container\">\n",
              "      <div>\n",
              "<style scoped>\n",
              "    .dataframe tbody tr th:only-of-type {\n",
              "        vertical-align: middle;\n",
              "    }\n",
              "\n",
              "    .dataframe tbody tr th {\n",
              "        vertical-align: top;\n",
              "    }\n",
              "\n",
              "    .dataframe thead th {\n",
              "        text-align: right;\n",
              "    }\n",
              "</style>\n",
              "<table border=\"1\" class=\"dataframe\">\n",
              "  <thead>\n",
              "    <tr style=\"text-align: right;\">\n",
              "      <th></th>\n",
              "      <th>text</th>\n",
              "      <th>airline_sentiment</th>\n",
              "    </tr>\n",
              "  </thead>\n",
              "  <tbody>\n",
              "    <tr>\n",
              "      <th>7150</th>\n",
              "      <td>usairways another dead end handle aa lampf gav...</td>\n",
              "      <td>negative</td>\n",
              "    </tr>\n",
              "    <tr>\n",
              "      <th>8316</th>\n",
              "      <td>usairways 2066 plane pbi clt knew frozen water...</td>\n",
              "      <td>negative</td>\n",
              "    </tr>\n",
              "    <tr>\n",
              "      <th>8331</th>\n",
              "      <td>usairways waiting bags 25min phl bag claim</td>\n",
              "      <td>negative</td>\n",
              "    </tr>\n",
              "    <tr>\n",
              "      <th>7767</th>\n",
              "      <td>usairways never heard back would help chance c...</td>\n",
              "      <td>negative</td>\n",
              "    </tr>\n",
              "    <tr>\n",
              "      <th>916</th>\n",
              "      <td>united thanks</td>\n",
              "      <td>positive</td>\n",
              "    </tr>\n",
              "  </tbody>\n",
              "</table>\n",
              "</div>\n",
              "      <button class=\"colab-df-convert\" onclick=\"convertToInteractive('df-3ba989a2-cd4e-4fbb-aa55-d79028c8c5a2')\"\n",
              "              title=\"Convert this dataframe to an interactive table.\"\n",
              "              style=\"display:none;\">\n",
              "        \n",
              "  <svg xmlns=\"http://www.w3.org/2000/svg\" height=\"24px\"viewBox=\"0 0 24 24\"\n",
              "       width=\"24px\">\n",
              "    <path d=\"M0 0h24v24H0V0z\" fill=\"none\"/>\n",
              "    <path d=\"M18.56 5.44l.94 2.06.94-2.06 2.06-.94-2.06-.94-.94-2.06-.94 2.06-2.06.94zm-11 1L8.5 8.5l.94-2.06 2.06-.94-2.06-.94L8.5 2.5l-.94 2.06-2.06.94zm10 10l.94 2.06.94-2.06 2.06-.94-2.06-.94-.94-2.06-.94 2.06-2.06.94z\"/><path d=\"M17.41 7.96l-1.37-1.37c-.4-.4-.92-.59-1.43-.59-.52 0-1.04.2-1.43.59L10.3 9.45l-7.72 7.72c-.78.78-.78 2.05 0 2.83L4 21.41c.39.39.9.59 1.41.59.51 0 1.02-.2 1.41-.59l7.78-7.78 2.81-2.81c.8-.78.8-2.07 0-2.86zM5.41 20L4 18.59l7.72-7.72 1.47 1.35L5.41 20z\"/>\n",
              "  </svg>\n",
              "      </button>\n",
              "      \n",
              "  <style>\n",
              "    .colab-df-container {\n",
              "      display:flex;\n",
              "      flex-wrap:wrap;\n",
              "      gap: 12px;\n",
              "    }\n",
              "\n",
              "    .colab-df-convert {\n",
              "      background-color: #E8F0FE;\n",
              "      border: none;\n",
              "      border-radius: 50%;\n",
              "      cursor: pointer;\n",
              "      display: none;\n",
              "      fill: #1967D2;\n",
              "      height: 32px;\n",
              "      padding: 0 0 0 0;\n",
              "      width: 32px;\n",
              "    }\n",
              "\n",
              "    .colab-df-convert:hover {\n",
              "      background-color: #E2EBFA;\n",
              "      box-shadow: 0px 1px 2px rgba(60, 64, 67, 0.3), 0px 1px 3px 1px rgba(60, 64, 67, 0.15);\n",
              "      fill: #174EA6;\n",
              "    }\n",
              "\n",
              "    [theme=dark] .colab-df-convert {\n",
              "      background-color: #3B4455;\n",
              "      fill: #D2E3FC;\n",
              "    }\n",
              "\n",
              "    [theme=dark] .colab-df-convert:hover {\n",
              "      background-color: #434B5C;\n",
              "      box-shadow: 0px 1px 3px 1px rgba(0, 0, 0, 0.15);\n",
              "      filter: drop-shadow(0px 1px 2px rgba(0, 0, 0, 0.3));\n",
              "      fill: #FFFFFF;\n",
              "    }\n",
              "  </style>\n",
              "\n",
              "      <script>\n",
              "        const buttonEl =\n",
              "          document.querySelector('#df-3ba989a2-cd4e-4fbb-aa55-d79028c8c5a2 button.colab-df-convert');\n",
              "        buttonEl.style.display =\n",
              "          google.colab.kernel.accessAllowed ? 'block' : 'none';\n",
              "\n",
              "        async function convertToInteractive(key) {\n",
              "          const element = document.querySelector('#df-3ba989a2-cd4e-4fbb-aa55-d79028c8c5a2');\n",
              "          const dataTable =\n",
              "            await google.colab.kernel.invokeFunction('convertToInteractive',\n",
              "                                                     [key], {});\n",
              "          if (!dataTable) return;\n",
              "\n",
              "          const docLinkHtml = 'Like what you see? Visit the ' +\n",
              "            '<a target=\"_blank\" href=https://colab.research.google.com/notebooks/data_table.ipynb>data table notebook</a>'\n",
              "            + ' to learn more about interactive tables.';\n",
              "          element.innerHTML = '';\n",
              "          dataTable['output_type'] = 'display_data';\n",
              "          await google.colab.output.renderOutput(dataTable, element);\n",
              "          const docLink = document.createElement('div');\n",
              "          docLink.innerHTML = docLinkHtml;\n",
              "          element.appendChild(docLink);\n",
              "        }\n",
              "      </script>\n",
              "    </div>\n",
              "  </div>\n",
              "  "
            ],
            "text/plain": [
              "                                                   text airline_sentiment\n",
              "7150  usairways another dead end handle aa lampf gav...          negative\n",
              "8316  usairways 2066 plane pbi clt knew frozen water...          negative\n",
              "8331         usairways waiting bags 25min phl bag claim          negative\n",
              "7767  usairways never heard back would help chance c...          negative\n",
              "916                                       united thanks          positive"
            ]
          },
          "execution_count": 49,
          "metadata": {},
          "output_type": "execute_result"
        }
      ],
      "source": [
        "train_df['text']=train_df['text'].str.lower()\n",
        "train_df['text'] = train_df['text'].apply(lambda text: cleaning_stopwords(text))\n",
        "train_df['text'] = train_df['text'].apply(lambda x: cleaning_repeating_char(x))\n",
        "train_df['text']= train_df['text'].apply(lambda x: cleaning_punctuations(x))\n",
        "\n",
        "train_df.head()"
      ]
    },
    {
      "cell_type": "code",
      "execution_count": 50,
      "metadata": {
        "colab": {
          "base_uri": "https://localhost:8080/",
          "height": 204
        },
        "id": "_MZZsAQbB_6Z",
        "outputId": "134b30d4-39fe-4e5b-efd2-58c5309bfac6"
      },
      "outputs": [
        {
          "data": {
            "text/html": [
              "\n",
              "  <div id=\"df-78f32348-bf7a-4ce9-b786-28e493a4d52a\">\n",
              "    <div class=\"colab-df-container\">\n",
              "      <div>\n",
              "<style scoped>\n",
              "    .dataframe tbody tr th:only-of-type {\n",
              "        vertical-align: middle;\n",
              "    }\n",
              "\n",
              "    .dataframe tbody tr th {\n",
              "        vertical-align: top;\n",
              "    }\n",
              "\n",
              "    .dataframe thead th {\n",
              "        text-align: right;\n",
              "    }\n",
              "</style>\n",
              "<table border=\"1\" class=\"dataframe\">\n",
              "  <thead>\n",
              "    <tr style=\"text-align: right;\">\n",
              "      <th></th>\n",
              "      <th>text</th>\n",
              "      <th>airline_sentiment</th>\n",
              "    </tr>\n",
              "  </thead>\n",
              "  <tbody>\n",
              "    <tr>\n",
              "      <th>9193</th>\n",
              "      <td>usairways charged flight cancelled flightled u...</td>\n",
              "      <td>negative</td>\n",
              "    </tr>\n",
              "    <tr>\n",
              "      <th>6112</th>\n",
              "      <td>jetblue great flight great view  httptcoyxn00p...</td>\n",
              "      <td>positive</td>\n",
              "    </tr>\n",
              "    <tr>\n",
              "      <th>967</th>\n",
              "      <td>united theyre not actually gate agent rude sta...</td>\n",
              "      <td>negative</td>\n",
              "    </tr>\n",
              "    <tr>\n",
              "      <th>11279</th>\n",
              "      <td>americanair worries called back 4 hrs late fli...</td>\n",
              "      <td>negative</td>\n",
              "    </tr>\n",
              "    <tr>\n",
              "      <th>3061</th>\n",
              "      <td>united thank you one months ago none now weird...</td>\n",
              "      <td>positive</td>\n",
              "    </tr>\n",
              "  </tbody>\n",
              "</table>\n",
              "</div>\n",
              "      <button class=\"colab-df-convert\" onclick=\"convertToInteractive('df-78f32348-bf7a-4ce9-b786-28e493a4d52a')\"\n",
              "              title=\"Convert this dataframe to an interactive table.\"\n",
              "              style=\"display:none;\">\n",
              "        \n",
              "  <svg xmlns=\"http://www.w3.org/2000/svg\" height=\"24px\"viewBox=\"0 0 24 24\"\n",
              "       width=\"24px\">\n",
              "    <path d=\"M0 0h24v24H0V0z\" fill=\"none\"/>\n",
              "    <path d=\"M18.56 5.44l.94 2.06.94-2.06 2.06-.94-2.06-.94-.94-2.06-.94 2.06-2.06.94zm-11 1L8.5 8.5l.94-2.06 2.06-.94-2.06-.94L8.5 2.5l-.94 2.06-2.06.94zm10 10l.94 2.06.94-2.06 2.06-.94-2.06-.94-.94-2.06-.94 2.06-2.06.94z\"/><path d=\"M17.41 7.96l-1.37-1.37c-.4-.4-.92-.59-1.43-.59-.52 0-1.04.2-1.43.59L10.3 9.45l-7.72 7.72c-.78.78-.78 2.05 0 2.83L4 21.41c.39.39.9.59 1.41.59.51 0 1.02-.2 1.41-.59l7.78-7.78 2.81-2.81c.8-.78.8-2.07 0-2.86zM5.41 20L4 18.59l7.72-7.72 1.47 1.35L5.41 20z\"/>\n",
              "  </svg>\n",
              "      </button>\n",
              "      \n",
              "  <style>\n",
              "    .colab-df-container {\n",
              "      display:flex;\n",
              "      flex-wrap:wrap;\n",
              "      gap: 12px;\n",
              "    }\n",
              "\n",
              "    .colab-df-convert {\n",
              "      background-color: #E8F0FE;\n",
              "      border: none;\n",
              "      border-radius: 50%;\n",
              "      cursor: pointer;\n",
              "      display: none;\n",
              "      fill: #1967D2;\n",
              "      height: 32px;\n",
              "      padding: 0 0 0 0;\n",
              "      width: 32px;\n",
              "    }\n",
              "\n",
              "    .colab-df-convert:hover {\n",
              "      background-color: #E2EBFA;\n",
              "      box-shadow: 0px 1px 2px rgba(60, 64, 67, 0.3), 0px 1px 3px 1px rgba(60, 64, 67, 0.15);\n",
              "      fill: #174EA6;\n",
              "    }\n",
              "\n",
              "    [theme=dark] .colab-df-convert {\n",
              "      background-color: #3B4455;\n",
              "      fill: #D2E3FC;\n",
              "    }\n",
              "\n",
              "    [theme=dark] .colab-df-convert:hover {\n",
              "      background-color: #434B5C;\n",
              "      box-shadow: 0px 1px 3px 1px rgba(0, 0, 0, 0.15);\n",
              "      filter: drop-shadow(0px 1px 2px rgba(0, 0, 0, 0.3));\n",
              "      fill: #FFFFFF;\n",
              "    }\n",
              "  </style>\n",
              "\n",
              "      <script>\n",
              "        const buttonEl =\n",
              "          document.querySelector('#df-78f32348-bf7a-4ce9-b786-28e493a4d52a button.colab-df-convert');\n",
              "        buttonEl.style.display =\n",
              "          google.colab.kernel.accessAllowed ? 'block' : 'none';\n",
              "\n",
              "        async function convertToInteractive(key) {\n",
              "          const element = document.querySelector('#df-78f32348-bf7a-4ce9-b786-28e493a4d52a');\n",
              "          const dataTable =\n",
              "            await google.colab.kernel.invokeFunction('convertToInteractive',\n",
              "                                                     [key], {});\n",
              "          if (!dataTable) return;\n",
              "\n",
              "          const docLinkHtml = 'Like what you see? Visit the ' +\n",
              "            '<a target=\"_blank\" href=https://colab.research.google.com/notebooks/data_table.ipynb>data table notebook</a>'\n",
              "            + ' to learn more about interactive tables.';\n",
              "          element.innerHTML = '';\n",
              "          dataTable['output_type'] = 'display_data';\n",
              "          await google.colab.output.renderOutput(dataTable, element);\n",
              "          const docLink = document.createElement('div');\n",
              "          docLink.innerHTML = docLinkHtml;\n",
              "          element.appendChild(docLink);\n",
              "        }\n",
              "      </script>\n",
              "    </div>\n",
              "  </div>\n",
              "  "
            ],
            "text/plain": [
              "                                                    text airline_sentiment\n",
              "9193   usairways charged flight cancelled flightled u...          negative\n",
              "6112   jetblue great flight great view  httptcoyxn00p...          positive\n",
              "967    united theyre not actually gate agent rude sta...          negative\n",
              "11279  americanair worries called back 4 hrs late fli...          negative\n",
              "3061   united thank you one months ago none now weird...          positive"
            ]
          },
          "execution_count": 50,
          "metadata": {},
          "output_type": "execute_result"
        }
      ],
      "source": [
        "test_df['text']=test_df['text'].str.lower()\n",
        "test_df['text'] = test_df['text'].apply(lambda text: cleaning_stopwords(text))\n",
        "test_df['text'] = test_df['text'].apply(lambda x: cleaning_repeating_char(x))\n",
        "test_df['text']= test_df['text'].apply(lambda x: cleaning_punctuations(x))\n",
        "\n",
        "test_df.head()"
      ]
    },
    {
      "cell_type": "code",
      "execution_count": 51,
      "metadata": {
        "colab": {
          "base_uri": "https://localhost:8080/"
        },
        "id": "YDGgfbzCDArl",
        "outputId": "d636c283-0d25-4c6c-8f8d-37f352860114"
      },
      "outputs": [
        {
          "data": {
            "text/plain": [
              "(array([0, 0, 0, ..., 1, 0, 0]),\n",
              " Index(['negative', 'positive'], dtype='object'))"
            ]
          },
          "execution_count": 51,
          "metadata": {},
          "output_type": "execute_result"
        }
      ],
      "source": [
        "senti_lab = train_df.airline_sentiment.factorize()\n",
        "senti_lab"
      ]
    },
    {
      "cell_type": "code",
      "execution_count": 52,
      "metadata": {
        "id": "64fwcGBLDRLF"
      },
      "outputs": [],
      "source": [
        "text = train_df.text.values\n",
        "tokenizer = Tokenizer(num_words=5000)\n",
        "tokenizer.fit_on_texts(text)\n",
        "vocab_size = len(tokenizer.word_index) + 1\n",
        "encoded_docs = tokenizer.texts_to_sequences(text)\n",
        "padded_sequence = pad_sequences(encoded_docs, maxlen=200)"
      ]
    },
    {
      "cell_type": "code",
      "execution_count": 53,
      "metadata": {
        "colab": {
          "base_uri": "https://localhost:8080/"
        },
        "id": "FmW6GD88D1nm",
        "outputId": "c3f883fc-b424-4f81-d781-e4a96440f6a9"
      },
      "outputs": [
        {
          "name": "stdout",
          "output_type": "stream",
          "text": [
            "usairways another dead end handle aa lampf gave failed  already had 10362749899 vm full lost\n",
            "[3, 72, 1460, 454, 539, 143, 3430, 321, 720, 137, 974, 4924, 3431, 274, 71]\n"
          ]
        }
      ],
      "source": [
        "print(text[0])\n",
        "print(encoded_docs[0])"
      ]
    },
    {
      "cell_type": "markdown",
      "metadata": {
        "id": "H0IlvP9wOwpo"
      },
      "source": [
        "# Training"
      ]
    },
    {
      "cell_type": "code",
      "execution_count": 54,
      "metadata": {
        "id": "MtPCiSH1XnVD"
      },
      "outputs": [],
      "source": [
        "# Save checkpoints during training\n",
        "checkpoint_path = \"sentiment_analysis/cp-{epoch:04d}.ckpt\"\n",
        "checkpoint_dir = os.path.dirname(checkpoint_path)\n",
        "\n",
        "batch_size = 32\n",
        "\n",
        "cp_callback = tf.keras.callbacks.ModelCheckpoint(\n",
        "    filepath=checkpoint_path, \n",
        "    verbose=1, \n",
        "    save_weights_only=True,\n",
        "    save_freq=2*batch_size)"
      ]
    },
    {
      "cell_type": "code",
      "execution_count": 62,
      "metadata": {
        "id": "gAJgFSoJD1ls"
      },
      "outputs": [],
      "source": [
        "def create_model():\n",
        "  embedding_vector_length = 32\n",
        "  model = Sequential() \n",
        "  model.add(Embedding(vocab_size, embedding_vector_length, input_length=200) )\n",
        "  model.add(SpatialDropout1D(0.25))\n",
        "  model.add(LSTM(50, dropout=0.5, recurrent_dropout=0.5))\n",
        "  model.add(Dropout(0.2))\n",
        "  model.add(Dense(1, activation='sigmoid')) \n",
        "  model.compile(loss='binary_crossentropy',optimizer='adam', metrics=['accuracy'])  \n",
        "  print(model.summary()) \n",
        "  return model"
      ]
    },
    {
      "cell_type": "code",
      "execution_count": 63,
      "metadata": {
        "colab": {
          "base_uri": "https://localhost:8080/"
        },
        "id": "IxVKOrt6bmKd",
        "outputId": "7f52c760-eb39-4d5d-9302-79ce4927e99b"
      },
      "outputs": [
        {
          "name": "stdout",
          "output_type": "stream",
          "text": [
            "Model: \"sequential_7\"\n",
            "_________________________________________________________________\n",
            " Layer (type)                Output Shape              Param #   \n",
            "=================================================================\n",
            " embedding_7 (Embedding)     (None, 200, 32)           411456    \n",
            "                                                                 \n",
            " spatial_dropout1d_7 (Spatia  (None, 200, 32)          0         \n",
            " lDropout1D)                                                     \n",
            "                                                                 \n",
            " lstm_7 (LSTM)               (None, 50)                16600     \n",
            "                                                                 \n",
            " dropout_7 (Dropout)         (None, 50)                0         \n",
            "                                                                 \n",
            " dense_7 (Dense)             (None, 1)                 51        \n",
            "                                                                 \n",
            "=================================================================\n",
            "Total params: 428,107\n",
            "Trainable params: 428,107\n",
            "Non-trainable params: 0\n",
            "_________________________________________________________________\n",
            "None\n"
          ]
        }
      ],
      "source": [
        "model = create_model()"
      ]
    },
    {
      "cell_type": "code",
      "execution_count": 56,
      "metadata": {
        "id": "552kTQ33YNbV"
      },
      "outputs": [],
      "source": [
        "model.save_weights(checkpoint_path.format(epoch=0))"
      ]
    },
    {
      "cell_type": "code",
      "execution_count": 57,
      "metadata": {
        "colab": {
          "base_uri": "https://localhost:8080/"
        },
        "id": "gwda1CdPEGOf",
        "outputId": "6f20e9a8-ee10-4ec4-ac3d-efbf59c6f9fe"
      },
      "outputs": [
        {
          "name": "stdout",
          "output_type": "stream",
          "text": [
            "Epoch 1/5\n",
            " 63/231 [=======>......................] - ETA: 43s - loss: 0.5563 - accuracy: 0.7907\n",
            "Epoch 1: saving model to sentiment_analysis/cp-0001.ckpt\n",
            "127/231 [===============>..............] - ETA: 26s - loss: 0.5110 - accuracy: 0.7972\n",
            "Epoch 1: saving model to sentiment_analysis/cp-0001.ckpt\n",
            "191/231 [=======================>......] - ETA: 10s - loss: 0.4664 - accuracy: 0.8087\n",
            "Epoch 1: saving model to sentiment_analysis/cp-0001.ckpt\n",
            "231/231 [==============================] - 66s 271ms/step - loss: 0.4439 - accuracy: 0.8176 - val_loss: 0.3085 - val_accuracy: 0.8738\n",
            "Epoch 2/5\n",
            " 24/231 [==>...........................] - ETA: 53s - loss: 0.2713 - accuracy: 0.8984\n",
            "Epoch 2: saving model to sentiment_analysis/cp-0002.ckpt\n",
            " 88/231 [==========>...................] - ETA: 36s - loss: 0.2533 - accuracy: 0.9027\n",
            "Epoch 2: saving model to sentiment_analysis/cp-0002.ckpt\n",
            "152/231 [==================>...........] - ETA: 20s - loss: 0.2370 - accuracy: 0.9104\n",
            "Epoch 2: saving model to sentiment_analysis/cp-0002.ckpt\n",
            "216/231 [===========================>..] - ETA: 3s - loss: 0.2343 - accuracy: 0.9112\n",
            "Epoch 2: saving model to sentiment_analysis/cp-0002.ckpt\n",
            "231/231 [==============================] - 61s 266ms/step - loss: 0.2317 - accuracy: 0.9121 - val_loss: 0.2357 - val_accuracy: 0.9080\n",
            "Epoch 3/5\n",
            " 49/231 [=====>........................] - ETA: 46s - loss: 0.1665 - accuracy: 0.9420\n",
            "Epoch 3: saving model to sentiment_analysis/cp-0003.ckpt\n",
            "113/231 [=============>................] - ETA: 31s - loss: 0.1561 - accuracy: 0.9419\n",
            "Epoch 3: saving model to sentiment_analysis/cp-0003.ckpt\n",
            "177/231 [=====================>........] - ETA: 14s - loss: 0.1581 - accuracy: 0.9403\n",
            "Epoch 3: saving model to sentiment_analysis/cp-0003.ckpt\n",
            "231/231 [==============================] - 62s 270ms/step - loss: 0.1595 - accuracy: 0.9397 - val_loss: 0.2316 - val_accuracy: 0.9096\n",
            "Epoch 4/5\n",
            " 10/231 [>.............................] - ETA: 58s - loss: 0.1048 - accuracy: 0.9625\n",
            "Epoch 4: saving model to sentiment_analysis/cp-0004.ckpt\n",
            " 74/231 [========>.....................] - ETA: 41s - loss: 0.1246 - accuracy: 0.9535\n",
            "Epoch 4: saving model to sentiment_analysis/cp-0004.ckpt\n",
            "138/231 [================>.............] - ETA: 24s - loss: 0.1226 - accuracy: 0.9545\n",
            "Epoch 4: saving model to sentiment_analysis/cp-0004.ckpt\n",
            "202/231 [=========================>....] - ETA: 7s - loss: 0.1224 - accuracy: 0.9559\n",
            "Epoch 4: saving model to sentiment_analysis/cp-0004.ckpt\n",
            "231/231 [==============================] - 63s 273ms/step - loss: 0.1221 - accuracy: 0.9550 - val_loss: 0.2354 - val_accuracy: 0.9117\n",
            "Epoch 5/5\n",
            " 35/231 [===>..........................] - ETA: 53s - loss: 0.0876 - accuracy: 0.9750\n",
            "Epoch 5: saving model to sentiment_analysis/cp-0005.ckpt\n",
            " 99/231 [===========>..................] - ETA: 34s - loss: 0.0973 - accuracy: 0.9650\n",
            "Epoch 5: saving model to sentiment_analysis/cp-0005.ckpt\n",
            "163/231 [====================>.........] - ETA: 18s - loss: 0.0957 - accuracy: 0.9663\n",
            "Epoch 5: saving model to sentiment_analysis/cp-0005.ckpt\n",
            "227/231 [============================>.] - ETA: 1s - loss: 0.1002 - accuracy: 0.9638\n",
            "Epoch 5: saving model to sentiment_analysis/cp-0005.ckpt\n",
            "231/231 [==============================] - 63s 273ms/step - loss: 0.1005 - accuracy: 0.9634 - val_loss: 0.2458 - val_accuracy: 0.9112\n"
          ]
        }
      ],
      "source": [
        "prediction = model.fit(padded_sequence,senti_lab[0],validation_split=0.2, epochs=5, batch_size=32, callbacks=[cp_callback])"
      ]
    },
    {
      "cell_type": "code",
      "execution_count": 25,
      "metadata": {
        "colab": {
          "base_uri": "https://localhost:8080/",
          "height": 282
        },
        "id": "1Ejl5dnnNSS9",
        "outputId": "5cbcc0d9-4114-45df-bd19-7dfcbec99bb7"
      },
      "outputs": [
        {
          "data": {
            "image/png": "[encoded data removed]",
            "text/plain": [
              "<Figure size 432x288 with 1 Axes>"
            ]
          },
          "metadata": {
            "needs_background": "light"
          },
          "output_type": "display_data"
        },
        {
          "data": {
            "text/plain": [
              "<Figure size 432x288 with 0 Axes>"
            ]
          },
          "metadata": {},
          "output_type": "display_data"
        }
      ],
      "source": [
        "plt.plot(prediction.history['accuracy'], label='accuracy')\n",
        "plt.plot(prediction.history['val_accuracy'], label='val_accuracy')\n",
        "plt.legend()\n",
        "plt.show()\n",
        "plt.savefig('./results/accuracy plot.jpg')\n"
      ]
    },
    {
      "cell_type": "code",
      "execution_count": 26,
      "metadata": {
        "colab": {
          "base_uri": "https://localhost:8080/",
          "height": 282
        },
        "id": "7aJNYLyeOPds",
        "outputId": "88f795c4-9dfb-4f9c-b6db-ae81f25918f6"
      },
      "outputs": [
        {
          "data": {
            "image/png": "[encoded data removed]",
            "text/plain": [
              "<Figure size 432x288 with 1 Axes>"
            ]
          },
          "metadata": {
            "needs_background": "light"
          },
          "output_type": "display_data"
        },
        {
          "data": {
            "text/plain": [
              "<Figure size 432x288 with 0 Axes>"
            ]
          },
          "metadata": {},
          "output_type": "display_data"
        }
      ],
      "source": [
        "plt.plot(prediction.history['loss'], label='loss')\n",
        "plt.plot(prediction.history['val_loss'], label='val_loss')\n",
        "plt.legend()\n",
        "plt.show()\n",
        "plt.savefig(\"./results/Loss plot.jpg\")"
      ]
    },
    {
      "cell_type": "markdown",
      "metadata": {
        "id": "18sIHGjpOklI"
      },
      "source": [
        "# Inference"
      ]
    },
    {
      "cell_type": "code",
      "execution_count": 58,
      "metadata": {
        "colab": {
          "base_uri": "https://localhost:8080/",
          "height": 37
        },
        "id": "_swoO3mhZo2W",
        "outputId": "eb02b865-0006-444a-ec60-91abf7bf6b32"
      },
      "outputs": [
        {
          "data": {
            "application/vnd.google.colaboratory.intrinsic+json": {
              "type": "string"
            },
            "text/plain": [
              "'sentiment_analysis/cp-0005.ckpt'"
            ]
          },
          "execution_count": 58,
          "metadata": {},
          "output_type": "execute_result"
        }
      ],
      "source": [
        "latest = tf.train.latest_checkpoint(checkpoint_dir)\n",
        "latest"
      ]
    },
    {
      "cell_type": "code",
      "execution_count": 64,
      "metadata": {
        "colab": {
          "base_uri": "https://localhost:8080/"
        },
        "id": "qWSGMgcLZoq6",
        "outputId": "dd212d27-49ae-40e2-aa6e-5a980032ae2f"
      },
      "outputs": [
        {
          "name": "stdout",
          "output_type": "stream",
          "text": [
            "Model: \"sequential_8\"\n",
            "_________________________________________________________________\n",
            " Layer (type)                Output Shape              Param #   \n",
            "=================================================================\n",
            " embedding_8 (Embedding)     (None, 200, 32)           411456    \n",
            "                                                                 \n",
            " spatial_dropout1d_8 (Spatia  (None, 200, 32)          0         \n",
            " lDropout1D)                                                     \n",
            "                                                                 \n",
            " lstm_8 (LSTM)               (None, 50)                16600     \n",
            "                                                                 \n",
            " dropout_8 (Dropout)         (None, 50)                0         \n",
            "                                                                 \n",
            " dense_8 (Dense)             (None, 1)                 51        \n",
            "                                                                 \n",
            "=================================================================\n",
            "Total params: 428,107\n",
            "Trainable params: 428,107\n",
            "Non-trainable params: 0\n",
            "_________________________________________________________________\n",
            "None\n"
          ]
        },
        {
          "data": {
            "text/plain": [
              "<tensorflow.python.training.tracking.util.CheckpointLoadStatus at 0x7f4f5d880880>"
            ]
          },
          "execution_count": 64,
          "metadata": {},
          "output_type": "execute_result"
        }
      ],
      "source": [
        "model = create_model()\n",
        "\n",
        "model.load_weights(latest)"
      ]
    },
    {
      "cell_type": "code",
      "execution_count": 65,
      "metadata": {
        "id": "V05DcWTpOuFT"
      },
      "outputs": [],
      "source": [
        "def predict_sentiment(text):\n",
        "    tw = tokenizer.texts_to_sequences([text])\n",
        "    tw = pad_sequences(tw,maxlen=200)\n",
        "    prediction = int(model.predict(tw).round().item())\n",
        "    print(\"Predicted label: \", senti_lab[1][prediction])"
      ]
    },
    {
      "cell_type": "code",
      "execution_count": 32,
      "metadata": {
        "colab": {
          "base_uri": "https://localhost:8080/"
        },
        "id": "TjjgJjBdO-E3",
        "outputId": "8bdbd82b-af67-4517-92a8-b6460324bf8f"
      },
      "outputs": [
        {
          "name": "stdout",
          "output_type": "stream",
          "text": [
            "1/1 [==============================] - 0s 40ms/step\n",
            "Predicted label:  negative\n",
            "Actual Label:  negative\n",
            "1/1 [==============================] - 0s 39ms/step\n",
            "Predicted label:  positive\n",
            "Actual Label:  positive\n",
            "1/1 [==============================] - 0s 37ms/step\n",
            "Predicted label:  negative\n",
            "Actual Label:  negative\n",
            "1/1 [==============================] - 0s 40ms/step\n",
            "Predicted label:  negative\n",
            "Actual Label:  negative\n",
            "1/1 [==============================] - 0s 39ms/step\n",
            "Predicted label:  positive\n",
            "Actual Label:  positive\n",
            "1/1 [==============================] - 0s 43ms/step\n",
            "Predicted label:  negative\n",
            "Actual Label:  negative\n",
            "1/1 [==============================] - 0s 47ms/step\n",
            "Predicted label:  positive\n",
            "Actual Label:  positive\n",
            "1/1 [==============================] - 0s 55ms/step\n",
            "Predicted label:  positive\n",
            "Actual Label:  positive\n",
            "1/1 [==============================] - 0s 40ms/step\n",
            "Predicted label:  negative\n",
            "Actual Label:  negative\n",
            "1/1 [==============================] - 0s 42ms/step\n",
            "Predicted label:  negative\n",
            "Actual Label:  negative\n"
          ]
        }
      ],
      "source": [
        "count = 0\n",
        "for index in test_df.index:\n",
        "  # print(test_df['text'][index])\n",
        "  text = test_df['text'][index]\n",
        "  res = predict_sentiment(text)\n",
        "  print(\"Actual Label: \", test_df['airline_sentiment'][index])\n",
        "  count+=1\n",
        "  if count == 10:\n",
        "    break"
      ]
    }
  ],
  "metadata": {
    "colab": {
      "provenance": []
    },
    "kernelspec": {
      "display_name": "truefoundry",
      "language": "python",
      "name": "python3"
    },
    "language_info": {
      "codemirror_mode": {
        "name": "ipython",
        "version": 3
      },
      "file_extension": ".py",
      "mimetype": "text/x-python",
      "name": "python",
      "nbconvert_exporter": "python",
      "pygments_lexer": "ipython3",
      "version": "3.9.15"
    },
    "vscode": {
      "interpreter": {
        "hash": "dc83b24e524be6decc037cb6d8159c3d0b6d5339e3eb54323a54f7e854f9a429"
      }
    }
  },
  "nbformat": 4,
  "nbformat_minor": 0
}
